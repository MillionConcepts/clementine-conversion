{
 "cells": [
  {
   "cell_type": "markdown",
   "id": "aquatic-footwear",
   "metadata": {},
   "source": [
    "# notebook for decompressing clementine EDR files\n",
    "\n",
    "## general notes and performance tips:\n",
    "1. decompressing Clementine EDR files is fairly fast on a modern machine (much of which is initialization\n",
    "/ access time for ```CLEMDCMP``` and not improved very much by more single-thread speed). However, to\n",
    "provide an operating environment for ```CLEMDCMP```, we must spin up DOSBOX (a PCDOS emulator), which\n",
    "is fairly slow (~ 2-5 seconds depending on operating environment, again not improved very much by more\n",
    "single-thread speed). There are around 1.9 million EDR files. This means that running them in bulk is\n",
    "necessary.\n",
    "2. Feeding very long file paths to DOSBOX is not practical. This means that files need to be decompressed\n",
    "locally, preferably within a single directory. Fortunately, all filenames (not counting path) in the EDR\n",
    "are distinct. (As a side note, this was a secondary function of including orbit number as a three-digit\n",
    "sequential extension -- so that they could encode all the metadata they wanted in the filename while\n",
    "retaining adequate entropy to distinguish each file in the EDR from all its siblings.)\n",
    "3. more CPU cores are very helpful if you want this to go faster. CLEMDCMP itself is quite efficient, but\n",
    "the x86 emulation layer of DOSBOX is not. Assume it will eat a whole core for no reason. There is probably\n",
    "a way to fix this, but I don't know what it is. Appropriate value for dosbox_process_count below is probably\n",
    "about 1 per core.\n",
    "4. Make very sure you have DOSBOX config set to _not_ limit processor cycles. Otherwise, it will faithfully\n",
    "run it at authentic 1994 speeds, which is great for DOSBOX's primary target application (playing DOS games\n",
    "at the correct speed) but terrible for this one\n",
    "5. After CPU cores, IOPS are another very likely bottleneck. Throughput and working memory are not likely\n",
    "bottlenecks.  The upshot here is that if you do parallelize this beyond the multithreading that is already\n",
    "built into this notebook, it's probably better to do it across machines. On a single machine, just increase\n",
    "the multiprocessing limits until you run out of CPU or iowait spikes; everything here multithreads very nicely.\n",
    "6. ```CLEMDCMP``` has very few error messages. Presented with most forms of bad input, it simply hangs forever.\n",
    "This, among many other potential sources of weirdness with any way you change the process, is a good reason\n",
    "other than performance as such to consider parallelizing this across multiple sessions.\n",
    "7. Average compression ratio varies quite a bit between the AVs, but across the whole EDR, it is about 1:3.75.\n",
    "Total uncompressed size of the EDR is about 170 GB."
   ]
  },
  {
   "cell_type": "code",
   "execution_count": 38,
   "id": "correct-collar",
   "metadata": {},
   "outputs": [],
   "source": [
    "import re\n",
    "from multiprocessing import Pool\n",
    "\n",
    "import fs.path\n",
    "from fs.osfs import OSFS\n",
    "from more_itertools import distribute\n",
    "\n",
    "from clem_conversion import *\n",
    "\n",
    "# set root directory for input data set\n",
    "input_root = '/home/ubuntu/clem_input/'\n",
    "\n",
    "# clemdmp does not deal well with writing directly to other filesystems;\n",
    "# this is a working directory that contains it and its\n",
    "# immediate outputs\n",
    "clemdcmp_directory = 'clemdcmp'\n",
    "\n",
    "# where are we storing these decompressed images?\n",
    "base_dir = '/home/ubuntu/clemdcmp_holding/'\n",
    "\n",
    "# multiprocess limits\n",
    "fs_process_slots = 30\n",
    "dosbox_process_count = 16"
   ]
  },
  {
   "cell_type": "code",
   "execution_count": null,
   "id": "boxed-kruger",
   "metadata": {
    "scrolled": false
   },
   "outputs": [],
   "source": [
    "# split up iteration however you want. there are 88 volumes.\n",
    "# this notebook just runs them all.\n",
    "\n",
    "av_range = (1,89)"
   ]
  },
  {
   "cell_type": "code",
   "execution_count": null,
   "outputs": [],
   "source": [
    "for av_index in av_range:\n",
    "# pick volume and make fs abstraction\n",
    "    av_string = 'cl_' + '{:0>4}'.format(av_index)\n",
    "    volume_root = input_root + av_string\n",
    "    volume = OSFS(volume_root)\n",
    "    # find data directories on volume\n",
    "    data_dirs = [\n",
    "        file.name for file in volume.scandir('')\n",
    "        if file.is_dir and file.name not in [\n",
    "            'document', 'index', 'software', 'timeline'\n",
    "        ]\n",
    "    ]\n",
    "    av_start_time = dt.datetime.now()\n",
    "\n",
    "    print('starting av ' + av_string)\n",
    "    for data_dir in data_dirs:\n",
    "        start_time = dt.datetime.now()\n",
    "        print(start_time.isoformat())\n",
    "        data_files = list(volume.walk.files(data_dir))\n",
    "        print('copying files from:')\n",
    "        print(data_dir, str(len(data_files)) + ' total files')\n",
    "        if __name__ == '__main__':\n",
    "            pool = Pool(fs_process_slots)\n",
    "            for ix, path in enumerate(data_files):\n",
    "                command = pool.apply_async(\n",
    "                    shutil.copy, \n",
    "                    (\n",
    "                        fs.path.combine(volume_root, path), \n",
    "                        clemdcmp_directory + fs.path.split(path)[1]\n",
    "                    )\n",
    "                )\n",
    "            pool.close()\n",
    "            pool.join()\n",
    "\n",
    "        print ('starting clemdcmp conversion run')\n",
    "        edr_files = [\n",
    "            file for file in os.listdir(clemdcmp_directory)\n",
    "            if re.match(r'\\w{8}\\.\\d{3}', file)\n",
    "        ]\n",
    "        commands = []\n",
    "        sh.mkdir('-p', base_dir + av_string + '/')\n",
    "        if __name__ == '__main__':\n",
    "            pool = Pool(dosbox_process_count)\n",
    "            chunks = distribute(dosbox_process_count, edr_files)\n",
    "            for ix, chunk in enumerate(chunks):\n",
    "                command = pool.apply_async(\n",
    "                    # do NOT look at the output of dosbox directly in a REPL environment\n",
    "                    # on a remote server. ncurses viewed through sh's interpreter will\n",
    "                    # cause TROUBLE.\n",
    "                    clemdcmp, \n",
    "                    (list(chunk), clemdcmp_directory, base_dir + av_string + '/', ix)\n",
    "                )\n",
    "                commands.append(command)\n",
    "            pool.close()\n",
    "            pool.join()\n",
    "\n",
    "        print('cleaning up')\n",
    "        for file in edr_files:\n",
    "            os.remove(clemdcmp_directory + file)\n",
    "        print('done, elapsed time ' + str((dt.datetime.now() - start_time).total_seconds()) + ' seconds')\n",
    "    print('**************************************************')\n",
    "    print('\\n')\n",
    "    print('av done, elapsed time ' + str((dt.datetime.now() - av_start_time).total_seconds()) + ' seconds')\n",
    "    print('\\n')\n",
    "    print('**************************************************')"
   ],
   "metadata": {
    "collapsed": false,
    "pycharm": {
     "name": "#%%\n"
    }
   }
  },
  {
   "cell_type": "code",
   "execution_count": null,
   "id": "caroline-moderator",
   "metadata": {
    "pycharm": {
     "name": "#%%"
    }
   },
   "outputs": [],
   "source": []
  }
 ],
 "metadata": {
  "kernelspec": {
   "display_name": "Python 3",
   "language": "python",
   "name": "python3"
  },
  "language_info": {
   "codemirror_mode": {
    "name": "ipython",
    "version": 3
   },
   "file_extension": ".py",
   "mimetype": "text/x-python",
   "name": "python",
   "nbconvert_exporter": "python",
   "pygments_lexer": "ipython3",
   "version": "3.8.6"
  }
 },
 "nbformat": 4,
 "nbformat_minor": 5
}