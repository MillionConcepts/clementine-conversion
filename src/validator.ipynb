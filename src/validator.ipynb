{
 "cells": [
  {
   "cell_type": "markdown",
   "source": [
    "# snippets for using PDS Validate Tool from Jupyter\n",
    "\n",
    "This is a goodie, not a core part of the conversion process.\n",
    "Building Validate Tool directly into the Clementine conversion runs\n",
    "is impractical because it can take up to a minute to spin up the\n",
    "Java VM and load dictionaries; with the high file volume of Clementine,\n",
    "this could add weeks or months to conversion. These are some little techniques\n",
    "for running Validate Tool and viewing its output from Jupyter. These have\n",
    "not been rigorously tested or verified, but you might like them.\n",
    "\n",
    "Note that this all relies on having a link to the validate execution script,\n",
    "or the script itself, in your path. Validate Tool is not included in this\n",
    "bundle; get it from https://nasa-pds.github.io/validate/.\n",
    "\n",
    "Note that Validate Tool is pretty resource-intensive; you can easily\n",
    "overwhelm your system by getting too enthusiastic about running\n",
    "a lot of instances of it at once. You might want to consider cranking\n",
    "the starting memory of its VM down by changing the ```-Xms2048m```\n",
    "parameter in its execution script,  because it definitely doesn't need\n",
    "that much memory for the Clementine files, especially the EDR."
   ],
   "metadata": {
    "collapsed": false
   }
  },
  {
   "cell_type": "code",
   "execution_count": null,
   "id": "certified-reference",
   "metadata": {},
   "outputs": [],
   "source": [
    "import fs\n",
    "from fs.osfs import OSFS\n",
    "from more_itertools import split_at\n",
    "import sh\n",
    "from toolz import valfilter\n",
    "\n",
    "from clem_bulk import BgViewer"
   ]
  },
  {
   "cell_type": "code",
   "execution_count": null,
   "id": "occasional-season",
   "metadata": {},
   "outputs": [],
   "source": [
    "output_root = '/home/ubuntu/data_temp/data'\n",
    "output_fs = OSFS(output_root)"
   ]
  },
  {
   "cell_type": "code",
   "execution_count": null,
   "id": "handy-strand",
   "metadata": {},
   "outputs": [],
   "source": [
    "# several 'flavors'\n",
    "\n",
    "def impure_background_validator(target, value, threshold, structure):\n",
    "    if value <= threshold:\n",
    "        return\n",
    "    structure.append(\n",
    "        BgViewer(sh.validate(\"-t\", target, _bg=True))\n",
    "    )\n",
    "\n",
    "def background_validator(target):\n",
    "    return BgViewer(sh.validate(\"-t\", target, _bg=True))\n",
    "\n",
    "def background_no_data_validator(target):\n",
    "    return BgViewer(sh.validate(\n",
    "        \"-t\", target, '-D', _bg=True\n",
    "    ))\n",
    "\n",
    "def background_spot_validator(target, max_e=20, spot_freq=10):\n",
    "    \"\"\"spot-checks data. also highly sensitive to failures.\"\"\"\n",
    "    return BgViewer(sh.validate(\n",
    "        \"-t\", target, max_errors=max_e, spot_check_data=spot_freq, _bg=True\n",
    "    ))"
   ]
  },
  {
   "cell_type": "code",
   "execution_count": null,
   "id": "original-understanding",
   "metadata": {
    "scrolled": false
   },
   "outputs": [],
   "source": [
    "root = '/edr/uvvis/0750/'\n",
    "validators = {}\n",
    "for ix, lat_bin in enumerate(output_fs.scandir(root)):\n",
    "    path = output_fs.getsyspath(\n",
    "            fs.path.combine(root, lat_bin.name)\n",
    "        )\n",
    "    if ix < 6:\n",
    "        continue\n",
    "    if ix > 10:\n",
    "        continue\n",
    "    validators[path] = background_spot_validator(path, 5)"
   ]
  },
  {
   "cell_type": "code",
   "execution_count": null,
   "id": "alone-license",
   "metadata": {},
   "outputs": [],
   "source": [
    "validators = {}\n",
    "for lat_bin in output_fs.scandir('/data/lwir'):\n",
    "    path = output_fs.getsyspath(\n",
    "            fs.path.combine('/data/lwir', lat_bin.name)\n",
    "        )\n",
    "    validators[path] = background_spot_validator(path, 5)"
   ]
  },
  {
   "cell_type": "code",
   "execution_count": null,
   "id": "instrumental-structure",
   "metadata": {},
   "outputs": [],
   "source": [
    "# or, just label validation:\n",
    "validators = {}\n",
    "for dataset in output_fs.scandir('/data/'):\n",
    "    path = output_fs.getsyspath(\n",
    "            fs.path.combine('/data/', dataset.name)\n",
    "        )\n",
    "    validators[path] = background_no_data_validator(path)"
   ]
  },
  {
   "cell_type": "code",
   "execution_count": null,
   "id": "accessible-weight",
   "metadata": {},
   "outputs": [],
   "source": [
    "if not any([\n",
    "    validator.running_command.is_alive()\n",
    "    for validator in validators.values()\n",
    "]):\n",
    "    print(\"we're all done\")"
   ]
  },
  {
   "cell_type": "code",
   "execution_count": null,
   "outputs": [],
   "source": [
    "len(validators)"
   ],
   "metadata": {
    "collapsed": false,
    "pycharm": {
     "name": "#%%\n"
    }
   }
  },
  {
   "cell_type": "code",
   "execution_count": null,
   "id": "bacterial-failure",
   "metadata": {},
   "outputs": [],
   "source": [
    "len([\n",
    "    validator for validator in validators.values()\n",
    "    if not validator.running_command.is_alive()\n",
    "])"
   ]
  },
  {
   "cell_type": "code",
   "execution_count": null,
   "id": "outer-payday",
   "metadata": {},
   "outputs": [],
   "source": [
    "# will block if you run while any validators are still going\n",
    "validator_output = {\n",
    "    directory:validator.running_command.stdout.decode()\n",
    "    for directory, validator in validators.items()\n",
    "}\n",
    "failed_runs = valfilter(\n",
    "    lambda report: 'FAIL' in report, validator_output\n",
    ")\n",
    "assert failed_runs == {}"
   ]
  },
  {
   "cell_type": "code",
   "execution_count": null,
   "id": "detected-scotland",
   "metadata": {},
   "outputs": [],
   "source": [
    "failures = failed_runs.values()\n",
    "for fail in failures:\n",
    "    lines = fail.splitlines()\n",
    "    for ix, line in enumerate(lines):\n",
    "        if 'FAIL' in line:\n",
    "            print(line)\n",
    "            print(lines[ix+1])\n",
    "            print(lines[ix+2])"
   ]
  },
  {
   "cell_type": "code",
   "execution_count": null,
   "id": "defensive-waste",
   "metadata": {},
   "outputs": [],
   "source": [
    "failed_hires = failed_runs['/home/ubuntu/buckets/clem_output/data/hires']"
   ]
  },
  {
   "cell_type": "code",
   "execution_count": null,
   "id": "sharp-pride",
   "metadata": {},
   "outputs": [],
   "source": [
    "failed_hires = map(\"\\n\".join,\n",
    "    split_at(\n",
    "        failed_hires.splitlines(),\n",
    "        lambda report_line: \"completed\" in report_line,\n",
    "        keep_separator=True\n",
    "    )\n",
    ")"
   ]
  },
  {
   "cell_type": "code",
   "execution_count": null,
   "id": "imperial-regard",
   "metadata": {},
   "outputs": [],
   "source": [
    "with open(\"mosaic_label_validator_output.txt\", \"w\") as file:\n",
    "    file.write(\"\\n\".join(list(validator_output.values())))"
   ]
  }
 ],
 "metadata": {
  "kernelspec": {
   "display_name": "Python 3",
   "language": "python",
   "name": "python3"
  },
  "language_info": {
   "codemirror_mode": {
    "name": "ipython",
    "version": 3
   },
   "file_extension": ".py",
   "mimetype": "text/x-python",
   "name": "python",
   "nbconvert_exporter": "python",
   "pygments_lexer": "ipython3",
   "version": "3.8.6"
  }
 },
 "nbformat": 4,
 "nbformat_minor": 5
}