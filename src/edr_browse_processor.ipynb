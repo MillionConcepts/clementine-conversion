{
 "cells": [
  {
   "cell_type": "markdown",
   "source": [
    "# notebook for writing edr browse products\n",
    "\n",
    "This is designed to be run on a fully-created version of the\n",
    "EDR data collection. It simply opens every FITS file, converts\n",
    "it to JPEG, fills out a simple label, and writes the JPEG and\n",
    "XML files out to a duplicate of the EDR directory structure.\n",
    "\n",
    "## performance tips\n",
    "Performance tip: Parallelizing this probably won't help that\n",
    "much unless you're in an unusual operating environment, because\n",
    "your most likely bottleneck is IOPS -- encoding these teensy\n",
    "arrays as JPEGs and inserting a few lines of text requires very\n",
    "little working memory, processing power, or throughput. Use a very\n",
    "fast disk if you want to speed it up. If you do have a good reason\n",
    "to parallelize it, I recommend using ```pathos``` or simply\n",
    "running multiple instances of this notebook; Python vanilla\n",
    "```multiprocessing``` will fail when attempting to pickle parts\n",
    "of this pipeline."
   ],
   "metadata": {
    "collapsed": false
   }
  },
  {
   "cell_type": "code",
   "execution_count": null,
   "id": "posted-plain",
   "metadata": {},
   "outputs": [],
   "source": [
    "import datetime as dt\n",
    "\n",
    "import fs.copy\n",
    "from fs.osfs import OSFS\n",
    "\n",
    "from clem_conversion import ClemBrowseWriter\n"
   ]
  },
  {
   "cell_type": "code",
   "execution_count": null,
   "id": "promotional-franchise",
   "metadata": {},
   "outputs": [],
   "source": [
    "# root of the to-be-created EDR browse directory tree\n",
    "browse_fs = OSFS('~/buckets/clem_output/browse/edr/')\n",
    "\n",
    "# root of the already-created EDR browse directory tree\n",
    "data_fs = OSFS('~/buckets/clem_output/data/edr/')"
   ]
  },
  {
   "cell_type": "code",
   "execution_count": null,
   "outputs": [],
   "source": [
    "# make the whole directory tree, avoiding tedious directory-\n",
    "# making later. will take a minute; there are a million or\n",
    "# so directories.\n",
    "fs.copy.copy_structure(data_fs, browse_fs)"
   ],
   "metadata": {
    "collapsed": false,
    "pycharm": {
     "name": "#%%\n"
    }
   }
  },
  {
   "cell_type": "code",
   "execution_count": null,
   "id": "incident-ready",
   "metadata": {
    "scrolled": false,
    "pycharm": {
     "name": "#%%\n"
    }
   },
   "outputs": [],
   "source": [
    "browse_start_time = dt.datetime.now()\n",
    "for ix, file in enumerate(data_fs.walk.files(filter=['*.fits'])):\n",
    "    if ix % 1000 == 0:\n",
    "        print(file)\n",
    "        print(str((dt.datetime.now() - browse_start_time).total_seconds()))\n",
    "        browse_start_time = dt.datetime.now()\n",
    "    path, fn = fs.path.split(file)\n",
    "    pds4_root = fn[:-5] \n",
    "    output_path = browse_fs.getsyspath(path)\n",
    "    ClemBrowseWriter(\n",
    "        pds4_root,\n",
    "        \"edr\"\n",
    "    ).write_pds4(output_path + '/', verbose=False)"
   ]
  }
 ],
 "metadata": {
  "kernelspec": {
   "display_name": "Python 3",
   "language": "python",
   "name": "python3"
  },
  "language_info": {
   "codemirror_mode": {
    "name": "ipython",
    "version": 3
   },
   "file_extension": ".py",
   "mimetype": "text/x-python",
   "name": "python",
   "nbconvert_exporter": "python",
   "pygments_lexer": "ipython3",
   "version": "3.8.6"
  }
 },
 "nbformat": 4,
 "nbformat_minor": 5
}