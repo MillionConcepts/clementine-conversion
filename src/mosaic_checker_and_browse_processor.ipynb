{
 "cells": [
  {
   "cell_type": "markdown",
   "source": [
    "# notebook for writing mosaic browse products and checking membership\n",
    "\n",
    "Extremely simple. Just goes through the PDS3 archive,\n",
    "picks the biggest browse image or images associated with\n",
    "each tile, populates a simple label template or templates,\n",
    "and moves them to a copy of the mosaic directory structure.\n",
    "\n",
    "Also includes some simple membership checks for the mosaic\n",
    "portions of the data collection -- not a core part of the\n",
    "conversion process, just a goodie.\n",
    "\n",
    "Throughput and IOPS are both plausible limiting factors --\n",
    "IOPS for the HIRES mosaic in particular -- but I never \n",
    "bothered optimizing this part of the process and have no \n",
    "real tips."
   ],
   "metadata": {
    "collapsed": false
   }
  },
  {
   "cell_type": "code",
   "execution_count": null,
   "outputs": [],
   "source": [
    "import fs.copy\n",
    "from fs.osfs import OSFS\n",
    "import numpy as np\n",
    "import pandas as pd\n",
    "\n",
    "from clem_conversion import ClemBrowseWriter"
   ],
   "metadata": {
    "collapsed": false,
    "pycharm": {
     "name": "#%%\n"
    }
   }
  },
  {
   "cell_type": "code",
   "execution_count": null,
   "outputs": [],
   "source": [
    "# products in the basemap data set that are unique, or nearly so,\n",
    "# and so not handled by ClemBrowseWriter -- labels for these products\n",
    "# were manually written.\n",
    "NONSTANDARD_MOSAIC_PRODUCT_IDS = [\n",
    "    'basemap_emission_farside', 'basemap_emission_nearside',\n",
    "    'basemap_farside', 'basemap_incidence_farside',\n",
    "    'basemap_incidence_nearside', 'basemap_nearside',\n",
    "    'basemap_north_pole', 'basemap_phase_farside',\n",
    "    'basemap_phase_nearside', 'basemap_planetwide',\n",
    "    'basemap_south_pole'\n",
    "]"
   ],
   "metadata": {
    "collapsed": false,
    "pycharm": {
     "name": "#%%\n"
    }
   }
  },
  {
   "cell_type": "code",
   "execution_count": null,
   "outputs": [],
   "source": [
    "# root directory of the PDS3 archive\n",
    "input_fs = OSFS('/home/ubuntu/buckets/clem_input/')\n",
    "# root directory of the PDS4 bundle\n",
    "output_fs = OSFS('/home/ubuntu/buckets/clem_output/')"
   ],
   "metadata": {
    "collapsed": false,
    "pycharm": {
     "name": "#%%\n"
    }
   }
  },
  {
   "cell_type": "code",
   "execution_count": null,
   "outputs": [],
   "source": [
    "# membership checks\n",
    "\n",
    "# index of source mosaic files and our new locations for them\n",
    "mosaic_manifest = pd.read_csv('./directories/clementine/mosaic_product_index.csv')\n",
    "\n",
    "label_files = list(output_fs.walk.files(filter=['*.xml']))\n",
    "extant_products = pd.DataFrame({\n",
    "    'pds4_path': [fs.path.split(file)[0] for file in label_files],\n",
    "    'pds4_product_id': [fs.path.split(file)[1][:-4] for file in label_files]\n",
    "})\n",
    "extant_products.columns = ['pds4_path', 'pds4_product_id']\n",
    "\n",
    "weird_additions = extant_products.loc[\n",
    "    np.logical_not(extant_products['pds4_product_id'].isin(mosaic_manifest['pds4_product_id']))\n",
    "]\n",
    "not_in_there = mosaic_manifest.loc[\n",
    "    np.logical_not(mosaic_manifest['pds4_product_id'].isin(extant_products['pds4_product_id']))\n",
    "]\n",
    "assert len(not_in_there) == 0\n",
    "assert all(weird_additions['pds4_product_id'].isin(NONSTANDARD_MOSAIC_PRODUCT_IDS))"
   ],
   "metadata": {
    "collapsed": false,
    "pycharm": {
     "name": "#%%\n"
    }
   }
  },
  {
   "cell_type": "code",
   "execution_count": null,
   "outputs": [],
   "source": [
    "# pick the big basemap jpegs\n",
    "basemap_df = mosaic_manifest.loc[mosaic_manifest['pds3_path'].str.startswith('cl_30')].copy()\n",
    "basemap_df['browse'] = basemap_df['pds3_path'].str.slice(0,8) \\\n",
    "    + 'browse/large/' + basemap_df['pds3_path'].str.slice(8,-4) + '.jpg'"
   ],
   "metadata": {
    "collapsed": false,
    "pycharm": {
     "name": "#%%\n"
    }
   }
  },
  {
   "cell_type": "code",
   "execution_count": null,
   "outputs": [],
   "source": [
    "# pick the big hires jpegs\n",
    "hires_df = mosaic_manifest.loc[mosaic_manifest['pds3_path'].str.startswith('cl_60')].copy()\n",
    "hires_df['browse'] = hires_df['pds3_path'].str.slice(0,-12) \\\n",
    "    + 'browse/' + hires_df['pds3_path'].str.slice(-12,-4) + '.jpg'"
   ],
   "metadata": {
    "collapsed": false,
    "pycharm": {
     "name": "#%%\n"
    }
   }
  },
  {
   "cell_type": "code",
   "execution_count": null,
   "outputs": [],
   "source": [
    "# pick the big uvvis jpegs of each type\n",
    "uvvis_df = mosaic_manifest.loc[mosaic_manifest['pds3_path'].str.startswith('cl_40')].copy()\n",
    "uvvis_df['browse_bw'] = uvvis_df['pds3_path'].str.slice(0,8) \\\n",
    "    + 'browse/750nm/large/' + uvvis_df['pds3_path'].str.slice(-12,-4) + '.jpg'\n",
    "uvvis_df['browse_color'] = uvvis_df['pds3_path'].str.slice(0,8) \\\n",
    "    + 'browse/color/large/' + uvvis_df['pds3_path'].str.slice(-12,-4) + '.jpg'\n",
    "uvvis_df['browse_ratio'] = uvvis_df['pds3_path'].str.slice(0,8) \\\n",
    "    + 'browse/ratio/large/' + uvvis_df['pds3_path'].str.slice(-12,-4) + '.jpg'"
   ],
   "metadata": {
    "collapsed": false,
    "pycharm": {
     "name": "#%%\n"
    }
   }
  },
  {
   "cell_type": "code",
   "execution_count": null,
   "outputs": [],
   "source": [
    "# pick the big nir jpegs of each type\n",
    "nir_df = mosaic_manifest.loc[mosaic_manifest['pds3_path'].str.startswith('cl_50')].copy()\n",
    "nir_df['browse_bw'] = nir_df['pds3_path'].str.slice(0,8) \\\n",
    "    + 'browse/2000nm/large/' + nir_df['pds3_path'].str.slice(-12,-4) + '.jpg'\n",
    "nir_df['browse_color'] = nir_df['pds3_path'].str.slice(0,8) \\\n",
    "    + 'browse/color/large/' + nir_df['pds3_path'].str.slice(-12,-4) + '.jpg'\n",
    "nir_df['browse_ratio'] = nir_df['pds3_path'].str.slice(0,8) \\\n",
    "    + 'browse/ratio/large/' + nir_df['pds3_path'].str.slice(-12,-4) + '.jpg'"
   ],
   "metadata": {
    "collapsed": false,
    "pycharm": {
     "name": "#%%\n"
    }
   }
  },
  {
   "cell_type": "code",
   "execution_count": null,
   "outputs": [],
   "source": [
    "# move basemap browse jpegs & write labels\n",
    "for tile in basemap_df.itertuples():\n",
    "    output_path = 'browse/' + tile.pds4_path[6:]\n",
    "    output_fs.makedirs(output_path, recreate=True)\n",
    "    fs.copy.copy_file(input_fs, tile.browse, output_fs, output_path + tile.pds4_product_id + \"_browse.jpg\")\n",
    "    ClemBrowseWriter(tile.pds4_product_id, \"basemap\").write_pds4(output_fs.getsyspath(output_path))"
   ],
   "metadata": {
    "collapsed": false,
    "pycharm": {
     "name": "#%%\n"
    }
   }
  },
  {
   "cell_type": "code",
   "execution_count": null,
   "outputs": [],
   "source": [
    "# move uvvis browse jpegs & write labels=\n",
    "for tile in uvvis_df.itertuples():\n",
    "    if 'phase' in tile.pds4_product_id:\n",
    "        continue\n",
    "    output_path = 'browse/' + tile.pds4_path[6:]\n",
    "    output_fs.makedirs(output_path, recreate=True)\n",
    "    for image_type in ['bw', 'color', 'ratio']:\n",
    "        fs.copy.copy_file(\n",
    "            input_fs, \n",
    "            getattr(tile, 'browse_' + image_type), \n",
    "            output_fs, \n",
    "            output_path + tile.pds4_product_id + \"_\" + image_type + \".jpg\"\n",
    "        )\n",
    "        ClemBrowseWriter(\n",
    "            tile.pds4_product_id, \"uvvis\", image_type\n",
    "        ).write_pds4(output_fs.getsyspath(output_path))"
   ],
   "metadata": {
    "collapsed": false,
    "pycharm": {
     "name": "#%%\n"
    }
   }
  },
  {
   "cell_type": "code",
   "execution_count": null,
   "outputs": [],
   "source": [
    "# move nir browse jpegs & write labels\n",
    "for tile in nir_df.itertuples():\n",
    "    output_path = 'browse/' + tile.pds4_path[6:]\n",
    "    output_fs.makedirs(output_path, recreate=True)\n",
    "    for image_type in ['bw', 'color', 'ratio']:\n",
    "        fs.copy.copy_file(\n",
    "            input_fs, \n",
    "            getattr(tile, 'browse_' + image_type), \n",
    "            output_fs, \n",
    "            output_path + tile.pds4_product_id + \"_\" + image_type + \".jpg\"\n",
    "        )\n",
    "        ClemBrowseWriter(\n",
    "            tile.pds4_product_id, \"nir\", image_type\n",
    "        ).write_pds4(output_fs.getsyspath(output_path))"
   ],
   "metadata": {
    "collapsed": false,
    "pycharm": {
     "name": "#%%\n"
    }
   }
  },
  {
   "cell_type": "code",
   "execution_count": null,
   "outputs": [],
   "source": [
    "# move hires browse jpegs & write labels\n",
    "for tile in hires_df.itertuples():\n",
    "    if not tile.pds3_product_id.startswith('g'):\n",
    "        continue\n",
    "    output_path = 'browse/' + tile.pds4_path[6:]\n",
    "    output_fs.makedirs(output_path, recreate=True)\n",
    "    fs.copy.copy_file(input_fs, tile.browse, output_fs, output_path + tile.pds4_product_id + \"_browse.jpg\")\n",
    "    ClemBrowseWriter(tile.pds4_product_id, \"hires\").write_pds4(output_fs.getsyspath(output_path))"
   ],
   "metadata": {
    "collapsed": false,
    "pycharm": {
     "name": "#%%\n"
    }
   }
  }
 ],
 "metadata": {
  "kernelspec": {
   "display_name": "Python 3",
   "language": "python",
   "name": "python3"
  },
  "language_info": {
   "codemirror_mode": {
    "name": "ipython",
    "version": 3
   },
   "file_extension": ".py",
   "mimetype": "text/x-python",
   "name": "python",
   "nbconvert_exporter": "python",
   "pygments_lexer": "ipython3",
   "version": "3.8.6"
  }
 },
 "nbformat": 4,
 "nbformat_minor": 5
}